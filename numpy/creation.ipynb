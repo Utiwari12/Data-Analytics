{
 "cells": [
  {
   "cell_type": "code",
   "execution_count": 1,
   "id": "6fa224c6-7f07-4b8a-bc22-959238bccf38",
   "metadata": {},
   "outputs": [],
   "source": [
    "import numpy as np"
   ]
  },
  {
   "cell_type": "code",
   "execution_count": 2,
   "id": "ac8b6d75-7061-4f16-98da-ac9051a36817",
   "metadata": {},
   "outputs": [
    {
     "name": "stdout",
     "output_type": "stream",
     "text": [
      "[10 20 30 40]\n"
     ]
    }
   ],
   "source": [
    "arr = np.array([10, 20, 30, 40])\n",
    "print(arr)"
   ]
  },
  {
   "cell_type": "code",
   "execution_count": 4,
   "id": "b1a152cc-3ea4-4ac0-acf0-436a5d9c569e",
   "metadata": {},
   "outputs": [
    {
     "name": "stdout",
     "output_type": "stream",
     "text": [
      "[[10 20 30]\n",
      " [40 50 60]]\n"
     ]
    }
   ],
   "source": [
    "arr1 = np.array([[10,20,30],[40,50,60]])\n",
    "print(arr1)"
   ]
  },
  {
   "cell_type": "code",
   "execution_count": 5,
   "id": "f54420f8-8bb4-4831-8809-ece185338fe2",
   "metadata": {},
   "outputs": [
    {
     "name": "stdout",
     "output_type": "stream",
     "text": [
      "[[[10 20 30]\n",
      "  [40 50 60]]\n",
      "\n",
      " [[10 20 30]\n",
      "  [40 50 60]]]\n"
     ]
    }
   ],
   "source": [
    "arr2 = np.array([[[10,20,30],[40,50,60]],[[10,20,30],[40,50,60]]])\n",
    "print(arr2)"
   ]
  },
  {
   "cell_type": "code",
   "execution_count": 1,
   "id": "7ff9661b-5040-477c-8130-8c9d41492937",
   "metadata": {},
   "outputs": [
    {
     "name": "stdout",
     "output_type": "stream",
     "text": [
      "Hello World <class 'str'>\n"
     ]
    }
   ],
   "source": [
    "a = \"Hello World\"\n",
    "print(a, type(a))"
   ]
  },
  {
   "cell_type": "code",
   "execution_count": 8,
   "id": "812787df-c44e-474d-9e0f-92b574a5cf35",
   "metadata": {},
   "outputs": [
    {
     "name": "stdout",
     "output_type": "stream",
     "text": [
      "['20' '30' 'hello']\n",
      "['30']\n",
      "['30' 'hello']\n",
      "['20' '30']\n",
      "['hello' '40' 'ram' '50' '60']\n"
     ]
    }
   ],
   "source": [
    "import numpy as np\n",
    "arr3 = np.array([20, 30, \"hello\", 40, \"ram\", 50, 60])\n",
    "print(arr3[0:3])\n",
    "print(arr3[1:3:2])\n",
    "print(arr3[1:3])\n",
    "print(arr3[:2])\n",
    "print(arr3[2:])"
   ]
  },
  {
   "cell_type": "code",
   "execution_count": 23,
   "id": "35a5bffb-aed2-4c00-ad2e-249890d5032a",
   "metadata": {},
   "outputs": [
    {
     "name": "stdout",
     "output_type": "stream",
     "text": [
      "[[10 20 30 40]\n",
      " [50 60 70 80]]\n",
      "[[10 20]\n",
      " [50 60]]\n",
      "[[20]\n",
      " [60]]\n"
     ]
    }
   ],
   "source": [
    "arr4 = np.array([[10, 20, 30, 40],[50, 60, 70, 80]])\n",
    "print(arr4[:2])\n",
    "print(arr4[:2, 0:2])\n",
    "print(arr4[:2, 1:2])"
   ]
  }
 ],
 "metadata": {
  "kernelspec": {
   "display_name": "Python 3",
   "language": "python",
   "name": "python3"
  },
  "language_info": {
   "codemirror_mode": {
    "name": "ipython",
    "version": 3
   },
   "file_extension": ".py",
   "mimetype": "text/x-python",
   "name": "python",
   "nbconvert_exporter": "python",
   "pygments_lexer": "ipython3",
   "version": "3.13.2"
  }
 },
 "nbformat": 4,
 "nbformat_minor": 5
}
